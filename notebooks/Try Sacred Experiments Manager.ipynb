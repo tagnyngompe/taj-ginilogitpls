{
 "cells": [
  {
   "cell_type": "markdown",
   "metadata": {},
   "source": [
    "## Without **sacred**"
   ]
  },
  {
   "cell_type": "code",
   "execution_count": 1,
   "metadata": {},
   "outputs": [
    {
     "name": "stdout",
     "output_type": "stream",
     "text": [
      "0.9833333333333333\n"
     ]
    }
   ],
   "source": [
    "from numpy.random import permutation\n",
    "from sklearn import svm, datasets\n",
    "\n",
    "\n",
    "\n",
    "\n",
    "\n",
    "C = 1.0\n",
    "gamma = 0.7\n",
    "\n",
    "\n",
    "\n",
    "iris = datasets.load_iris()\n",
    "perm = permutation(iris.target.size)\n",
    "iris.data = iris.data[perm]\n",
    "iris.target = iris.target[perm]\n",
    "clf = svm.SVC(C, 'rbf', gamma=gamma)\n",
    "clf.fit(iris.data[:90],\n",
    "        iris.target[:90])\n",
    "print(clf.score(iris.data[90:],\n",
    "                iris.target[90:]))"
   ]
  },
  {
   "cell_type": "markdown",
   "metadata": {},
   "source": [
    "## With **sacred**"
   ]
  },
  {
   "cell_type": "code",
   "execution_count": 4,
   "metadata": {},
   "outputs": [],
   "source": [
    "from numpy.random import permutation\n",
    "from sklearn import svm, datasets\n",
    "from sacred import Experiment\n",
    "ex = Experiment('iris_rbf_svm', interactive=True)\n",
    "\n",
    "@ex.config\n",
    "def cfg():\n",
    "  C = 1.0\n",
    "  gamma = 0.7\n",
    "\n",
    "@ex.main\n",
    "def run(C, gamma):\n",
    "  iris = datasets.load_iris()\n",
    "  per = permutation(iris.target.size)\n",
    "  iris.data = iris.data[per]\n",
    "  iris.target = iris.target[per]\n",
    "  clf = svm.SVC(C, 'rbf', gamma=gamma)\n",
    "  clf.fit(iris.data[:90],\n",
    "          iris.target[:90])\n",
    "  return clf.score(iris.data[90:],\n",
    "                   iris.target[90:])"
   ]
  },
  {
   "cell_type": "code",
   "execution_count": null,
   "metadata": {},
   "outputs": [],
   "source": []
  }
 ],
 "metadata": {
  "kernelspec": {
   "display_name": "Python 3",
   "language": "python",
   "name": "python3"
  },
  "language_info": {
   "codemirror_mode": {
    "name": "ipython",
    "version": 3
   },
   "file_extension": ".py",
   "mimetype": "text/x-python",
   "name": "python",
   "nbconvert_exporter": "python",
   "pygments_lexer": "ipython3",
   "version": "3.6.8"
  }
 },
 "nbformat": 4,
 "nbformat_minor": 2
}
